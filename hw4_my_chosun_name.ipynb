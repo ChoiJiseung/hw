{
 "cells": [
  {
   "cell_type": "code",
   "execution_count": 3,
   "id": "338674eb-da46-4087-b16a-0aff4dbf880c",
   "metadata": {},
   "outputs": [
    {
     "name": "stdout",
     "output_type": "stream",
     "text": [
      "['쌍', '쇠', '복', '돌', '팽', '육', '쌍', '개', '칠', '갑', '삼', '방']\n"
     ]
    }
   ],
   "source": [
    "month = ['쌍', '쇠', '복', '돌', '팽', '육', '쌍', '개', '칠', '갑', '삼', '방']\n",
    "print(month)"
   ]
  },
  {
   "cell_type": "code",
   "execution_count": 5,
   "id": "117c061b-136d-40e1-9c75-71c85a8dad13",
   "metadata": {},
   "outputs": [
    {
     "name": "stdout",
     "output_type": "stream",
     "text": [
      "['봉', '구', '욕', '포', '똥', '삼', '식', '석', '놈', '님', '년', '돌', '단', '득', '방', '질', '장', '걸', '래', '룡', '동', '순', '자', '박', '창', '언', '것', '포', '만', '단', '국']\n"
     ]
    }
   ],
   "source": [
    "day = ['봉','구','욕','포','똥','삼','식','석','놈','님','년','돌','단','득','방','질','장','걸','래','룡','동','순','자','박','창','언','것','포','만','단','국']\n",
    "print(day)"
   ]
  },
  {
   "cell_type": "code",
   "execution_count": 8,
   "id": "10e916ef-4d0a-47b3-b5f3-c3f2c33c8fcc",
   "metadata": {},
   "outputs": [
    {
     "name": "stdout",
     "output_type": "stream",
     "text": [
      "당신의 조선 이름은 최 칠 구입니다\n"
     ]
    }
   ],
   "source": [
    "def get_my_chosun_name(first_name, my_month, my_day):\n",
    "    return print('당신의 조선 이름은' + first_name, month[my_month-1], day[my_day-1]+ '입니다')\n",
    "\n",
    "get_my_chosun_name(' 최',9,2)"
   ]
  }
 ],
 "metadata": {
  "kernelspec": {
   "display_name": "Python 3 (ipykernel)",
   "language": "python",
   "name": "python3"
  },
  "language_info": {
   "codemirror_mode": {
    "name": "ipython",
    "version": 3
   },
   "file_extension": ".py",
   "mimetype": "text/x-python",
   "name": "python",
   "nbconvert_exporter": "python",
   "pygments_lexer": "ipython3",
   "version": "3.9.12"
  }
 },
 "nbformat": 4,
 "nbformat_minor": 5
}
